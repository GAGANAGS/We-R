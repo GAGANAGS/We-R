{
  "nbformat": 4,
  "nbformat_minor": 0,
  "metadata": {
    "colab": {
      "name": "YouTube Trending Video Analysis.ipynb",
      "provenance": []
    },
    "kernelspec": {
      "name": "python3",
      "display_name": "Python 3"
    }
  },
  "cells": [
    {
      "cell_type": "code",
      "metadata": {
        "id": "Kev-Ysn_pT4k",
        "colab_type": "code",
        "colab": {}
      },
      "source": [
        "import pandas as pd\n",
        "import numpy as np\n",
        "import matplotlib.pyplot as plt\n",
        "import seaborn as sns"
      ],
      "execution_count": 0,
      "outputs": []
    },
    {
      "cell_type": "code",
      "metadata": {
        "id": "h_A_8hkHqDxv",
        "colab_type": "code",
        "outputId": "011b30c0-9526-47be-8be0-da19bb484fc7",
        "colab": {
          "base_uri": "https://localhost:8080/",
          "height": 136
        }
      },
      "source": [
        "! git clone https://github.com/Shreya369/We-R.git"
      ],
      "execution_count": 2,
      "outputs": [
        {
          "output_type": "stream",
          "text": [
            "Cloning into 'We-R'...\n",
            "remote: Enumerating objects: 13, done.\u001b[K\n",
            "remote: Counting objects: 100% (13/13), done.\u001b[K\n",
            "remote: Compressing objects: 100% (12/12), done.\u001b[K\n",
            "remote: Total 36 (delta 2), reused 6 (delta 1), pack-reused 23\u001b[K\n",
            "Unpacking objects: 100% (36/36), done.\n",
            "Checking out files: 100% (25/25), done.\n"
          ],
          "name": "stdout"
        }
      ]
    },
    {
      "cell_type": "code",
      "metadata": {
        "id": "0eZjBlIMqGM7",
        "colab_type": "code",
        "colab": {}
      },
      "source": [
        "INvideos = pd.read_csv('We-R/YouTube_dataset/INvideos.csv')"
      ],
      "execution_count": 0,
      "outputs": []
    },
    {
      "cell_type": "code",
      "metadata": {
        "id": "qYYGX3FuqoZz",
        "colab_type": "code",
        "outputId": "7ff10bc1-aeb6-4a33-cb35-066958fb6a86",
        "colab": {
          "base_uri": "https://localhost:8080/",
          "height": 547
        }
      },
      "source": [
        "INvideos.head()"
      ],
      "execution_count": 4,
      "outputs": [
        {
          "output_type": "execute_result",
          "data": {
            "text/html": [
              "<div>\n",
              "<style scoped>\n",
              "    .dataframe tbody tr th:only-of-type {\n",
              "        vertical-align: middle;\n",
              "    }\n",
              "\n",
              "    .dataframe tbody tr th {\n",
              "        vertical-align: top;\n",
              "    }\n",
              "\n",
              "    .dataframe thead th {\n",
              "        text-align: right;\n",
              "    }\n",
              "</style>\n",
              "<table border=\"1\" class=\"dataframe\">\n",
              "  <thead>\n",
              "    <tr style=\"text-align: right;\">\n",
              "      <th></th>\n",
              "      <th>video_id</th>\n",
              "      <th>trending_date</th>\n",
              "      <th>title</th>\n",
              "      <th>channel_title</th>\n",
              "      <th>category_id</th>\n",
              "      <th>publish_time</th>\n",
              "      <th>tags</th>\n",
              "      <th>views</th>\n",
              "      <th>likes</th>\n",
              "      <th>dislikes</th>\n",
              "      <th>comment_count</th>\n",
              "      <th>thumbnail_link</th>\n",
              "      <th>comments_disabled</th>\n",
              "      <th>ratings_disabled</th>\n",
              "      <th>video_error_or_removed</th>\n",
              "      <th>description</th>\n",
              "    </tr>\n",
              "  </thead>\n",
              "  <tbody>\n",
              "    <tr>\n",
              "      <th>0</th>\n",
              "      <td>kzwfHumJyYc</td>\n",
              "      <td>17.14.11</td>\n",
              "      <td>Sharry Mann: Cute Munda ( Song Teaser) | Parmi...</td>\n",
              "      <td>Lokdhun Punjabi</td>\n",
              "      <td>1</td>\n",
              "      <td>2017-11-12T12:20:39.000Z</td>\n",
              "      <td>sharry mann|\"sharry mann new song\"|\"sharry man...</td>\n",
              "      <td>1096327</td>\n",
              "      <td>33966</td>\n",
              "      <td>798</td>\n",
              "      <td>882</td>\n",
              "      <td>https://i.ytimg.com/vi/kzwfHumJyYc/default.jpg</td>\n",
              "      <td>False</td>\n",
              "      <td>False</td>\n",
              "      <td>False</td>\n",
              "      <td>Presenting Sharry Mann latest Punjabi Song  Cu...</td>\n",
              "    </tr>\n",
              "    <tr>\n",
              "      <th>1</th>\n",
              "      <td>zUZ1z7FwLc8</td>\n",
              "      <td>17.14.11</td>\n",
              "      <td>पीरियड्स के समय, पेट पर पति करता ऐसा, देखकर दं...</td>\n",
              "      <td>HJ NEWS</td>\n",
              "      <td>25</td>\n",
              "      <td>2017-11-13T05:43:56.000Z</td>\n",
              "      <td>पीरियड्स के समय|\"पेट पर पति करता ऐसा\"|\"देखकर द...</td>\n",
              "      <td>590101</td>\n",
              "      <td>735</td>\n",
              "      <td>904</td>\n",
              "      <td>0</td>\n",
              "      <td>https://i.ytimg.com/vi/zUZ1z7FwLc8/default.jpg</td>\n",
              "      <td>True</td>\n",
              "      <td>False</td>\n",
              "      <td>False</td>\n",
              "      <td>पीरियड्स के समय, पेट पर पति करता ऐसा, देखकर दं...</td>\n",
              "    </tr>\n",
              "    <tr>\n",
              "      <th>2</th>\n",
              "      <td>10L1hZ9qa58</td>\n",
              "      <td>17.14.11</td>\n",
              "      <td>Stylish Star Allu Arjun @ ChaySam Wedding Rece...</td>\n",
              "      <td>TFPC</td>\n",
              "      <td>24</td>\n",
              "      <td>2017-11-12T15:48:08.000Z</td>\n",
              "      <td>Stylish Star Allu Arjun @ ChaySam Wedding Rece...</td>\n",
              "      <td>473988</td>\n",
              "      <td>2011</td>\n",
              "      <td>243</td>\n",
              "      <td>149</td>\n",
              "      <td>https://i.ytimg.com/vi/10L1hZ9qa58/default.jpg</td>\n",
              "      <td>False</td>\n",
              "      <td>False</td>\n",
              "      <td>False</td>\n",
              "      <td>Watch Stylish Star Allu Arjun @ ChaySam Weddin...</td>\n",
              "    </tr>\n",
              "    <tr>\n",
              "      <th>3</th>\n",
              "      <td>N1vE8iiEg64</td>\n",
              "      <td>17.14.11</td>\n",
              "      <td>Eruma Saani | Tamil vs English</td>\n",
              "      <td>Eruma Saani</td>\n",
              "      <td>23</td>\n",
              "      <td>2017-11-12T07:08:48.000Z</td>\n",
              "      <td>Eruma Saani|\"Tamil Comedy Videos\"|\"Films\"|\"Mov...</td>\n",
              "      <td>1242680</td>\n",
              "      <td>70353</td>\n",
              "      <td>1624</td>\n",
              "      <td>2684</td>\n",
              "      <td>https://i.ytimg.com/vi/N1vE8iiEg64/default.jpg</td>\n",
              "      <td>False</td>\n",
              "      <td>False</td>\n",
              "      <td>False</td>\n",
              "      <td>This video showcases the difference between pe...</td>\n",
              "    </tr>\n",
              "    <tr>\n",
              "      <th>4</th>\n",
              "      <td>kJzGH0PVQHQ</td>\n",
              "      <td>17.14.11</td>\n",
              "      <td>why Samantha became EMOTIONAL @ Samantha naga ...</td>\n",
              "      <td>Filmylooks</td>\n",
              "      <td>24</td>\n",
              "      <td>2017-11-13T01:14:16.000Z</td>\n",
              "      <td>Filmylooks|\"latest news\"|\"telugu movies\"|\"telu...</td>\n",
              "      <td>464015</td>\n",
              "      <td>492</td>\n",
              "      <td>293</td>\n",
              "      <td>66</td>\n",
              "      <td>https://i.ytimg.com/vi/kJzGH0PVQHQ/default.jpg</td>\n",
              "      <td>False</td>\n",
              "      <td>False</td>\n",
              "      <td>False</td>\n",
              "      <td>why Samantha became EMOTIONAL @ Samantha naga ...</td>\n",
              "    </tr>\n",
              "  </tbody>\n",
              "</table>\n",
              "</div>"
            ],
            "text/plain": [
              "      video_id  ...                                        description\n",
              "0  kzwfHumJyYc  ...  Presenting Sharry Mann latest Punjabi Song  Cu...\n",
              "1  zUZ1z7FwLc8  ...  पीरियड्स के समय, पेट पर पति करता ऐसा, देखकर दं...\n",
              "2  10L1hZ9qa58  ...  Watch Stylish Star Allu Arjun @ ChaySam Weddin...\n",
              "3  N1vE8iiEg64  ...  This video showcases the difference between pe...\n",
              "4  kJzGH0PVQHQ  ...  why Samantha became EMOTIONAL @ Samantha naga ...\n",
              "\n",
              "[5 rows x 16 columns]"
            ]
          },
          "metadata": {
            "tags": []
          },
          "execution_count": 4
        }
      ]
    },
    {
      "cell_type": "code",
      "metadata": {
        "id": "IQumhq-qqr9P",
        "colab_type": "code",
        "outputId": "053f3323-5138-468a-de4b-ff35597b16e5",
        "colab": {
          "base_uri": "https://localhost:8080/",
          "height": 374
        }
      },
      "source": [
        "INvideos.info()"
      ],
      "execution_count": 5,
      "outputs": [
        {
          "output_type": "stream",
          "text": [
            "<class 'pandas.core.frame.DataFrame'>\n",
            "RangeIndex: 37352 entries, 0 to 37351\n",
            "Data columns (total 16 columns):\n",
            "video_id                  37352 non-null object\n",
            "trending_date             37352 non-null object\n",
            "title                     37352 non-null object\n",
            "channel_title             37352 non-null object\n",
            "category_id               37352 non-null int64\n",
            "publish_time              37352 non-null object\n",
            "tags                      37352 non-null object\n",
            "views                     37352 non-null int64\n",
            "likes                     37352 non-null int64\n",
            "dislikes                  37352 non-null int64\n",
            "comment_count             37352 non-null int64\n",
            "thumbnail_link            37352 non-null object\n",
            "comments_disabled         37352 non-null bool\n",
            "ratings_disabled          37352 non-null bool\n",
            "video_error_or_removed    37352 non-null bool\n",
            "description               36791 non-null object\n",
            "dtypes: bool(3), int64(5), object(8)\n",
            "memory usage: 3.8+ MB\n"
          ],
          "name": "stdout"
        }
      ]
    },
    {
      "cell_type": "markdown",
      "metadata": {
        "id": "87eZJU0BwTHh",
        "colab_type": "text"
      },
      "source": [
        "**DATA CLEANING**"
      ]
    },
    {
      "cell_type": "code",
      "metadata": {
        "id": "yk_Tt-C_wYW2",
        "colab_type": "code",
        "colab": {
          "base_uri": "https://localhost:8080/",
          "height": 374
        },
        "outputId": "22fda979-7f24-419e-a6c8-a91dbdf59c70"
      },
      "source": [
        "# we can see in the info that the description column has NaN values, so we fill it with empty string\n",
        "INvideos['description'] = INvideos['description'].fillna(\"\")\n",
        "INvideos.info()\n"
      ],
      "execution_count": 6,
      "outputs": [
        {
          "output_type": "stream",
          "text": [
            "<class 'pandas.core.frame.DataFrame'>\n",
            "RangeIndex: 37352 entries, 0 to 37351\n",
            "Data columns (total 16 columns):\n",
            "video_id                  37352 non-null object\n",
            "trending_date             37352 non-null object\n",
            "title                     37352 non-null object\n",
            "channel_title             37352 non-null object\n",
            "category_id               37352 non-null int64\n",
            "publish_time              37352 non-null object\n",
            "tags                      37352 non-null object\n",
            "views                     37352 non-null int64\n",
            "likes                     37352 non-null int64\n",
            "dislikes                  37352 non-null int64\n",
            "comment_count             37352 non-null int64\n",
            "thumbnail_link            37352 non-null object\n",
            "comments_disabled         37352 non-null bool\n",
            "ratings_disabled          37352 non-null bool\n",
            "video_error_or_removed    37352 non-null bool\n",
            "description               37352 non-null object\n",
            "dtypes: bool(3), int64(5), object(8)\n",
            "memory usage: 3.8+ MB\n"
          ],
          "name": "stdout"
        }
      ]
    },
    {
      "cell_type": "code",
      "metadata": {
        "id": "MtUBLHr_wgBX",
        "colab_type": "code",
        "colab": {}
      },
      "source": [
        "# Some settings for plots\n",
        "PLOT_COLORS = [\"#268bd2\", \"#0052CC\", \"#FF5722\", \"#b58900\", \"#003f5c\"]\n",
        "pd.options.display.float_format = '{:.2f}'.format\n",
        "sns.set(style=\"ticks\")\n",
        "plt.rc('figure', figsize=(8, 5), dpi=100)\n",
        "plt.rc('axes', labelpad=20, facecolor=\"#ffffff\", linewidth=0.4, grid=True, labelsize=14)\n",
        "plt.rc('patch', linewidth=0)\n",
        "plt.rc('xtick.major', width=0.2)\n",
        "plt.rc('ytick.major', width=0.2)\n",
        "plt.rc('grid', color='#9E9E9E', linewidth=0.4)\n",
        "plt.rc('font', family='Arial', weight='400', size=10)\n",
        "plt.rc('text', color='#282828')\n",
        "plt.rc('savefig', pad_inches=0.3, dpi=300)"
      ],
      "execution_count": 0,
      "outputs": []
    },
    {
      "cell_type": "markdown",
      "metadata": {
        "id": "-_EnwjKGw-FV",
        "colab_type": "text"
      },
      "source": [
        "More about the data"
      ]
    },
    {
      "cell_type": "code",
      "metadata": {
        "id": "AVvso224w5Go",
        "colab_type": "code",
        "colab": {
          "base_uri": "https://localhost:8080/",
          "height": 563
        },
        "outputId": "0e0a4a73-83c7-4422-cebb-eaa400f1e7ae"
      },
      "source": [
        "#Determining when the data was collected\n",
        "INvideo = INvideos['trending_date'].apply(lambda x:'20'+x[:2]).value_counts().to_frame().reset_index().rename(columns={\"index\":\"year\",\"trending_date\":\"No_of_videos\"})\n",
        "\n",
        "#plot the result\n",
        "fig,ax = plt.subplots()\n",
        "yrs = sns.barplot(x=\"year\",y=\"No_of_videos\",palette=sns.color_palette(['#ff764a', '#ffa600'], n_colors=7),data=INvideo,ax=ax)\n",
        "yrs = ax.set(xlabel='Year',ylabel='No. of videos')"
      ],
      "execution_count": 9,
      "outputs": [
        {
          "output_type": "stream",
          "text": [
            "findfont: Font family ['Arial'] not found. Falling back to DejaVu Sans.\n",
            "findfont: Font family ['Arial'] not found. Falling back to DejaVu Sans.\n"
          ],
          "name": "stderr"
        },
        {
          "output_type": "display_data",
          "data": {
            "image/png": "[encoded data removed]",
            "text/plain": [
              "<Figure size 800x500 with 1 Axes>"
            ]
          },
          "metadata": {
            "tags": []
          }
        }
      ]
    },
    {
      "cell_type": "code",
      "metadata": {
        "id": "pdcjqov-xIAn",
        "colab_type": "code",
        "colab": {
          "base_uri": "https://localhost:8080/",
          "height": 297
        },
        "outputId": "8b61b03e-7c53-444e-e785-cdaa3166142a"
      },
      "source": [
        "#some statistics about the important features to know the range of variation of these features for the trending videos.\n",
        "INvideos.describe()"
      ],
      "execution_count": 10,
      "outputs": [
        {
          "output_type": "execute_result",
          "data": {
            "text/html": [
              "<div>\n",
              "<style scoped>\n",
              "    .dataframe tbody tr th:only-of-type {\n",
              "        vertical-align: middle;\n",
              "    }\n",
              "\n",
              "    .dataframe tbody tr th {\n",
              "        vertical-align: top;\n",
              "    }\n",
              "\n",
              "    .dataframe thead th {\n",
              "        text-align: right;\n",
              "    }\n",
              "</style>\n",
              "<table border=\"1\" class=\"dataframe\">\n",
              "  <thead>\n",
              "    <tr style=\"text-align: right;\">\n",
              "      <th></th>\n",
              "      <th>category_id</th>\n",
              "      <th>views</th>\n",
              "      <th>likes</th>\n",
              "      <th>dislikes</th>\n",
              "      <th>comment_count</th>\n",
              "    </tr>\n",
              "  </thead>\n",
              "  <tbody>\n",
              "    <tr>\n",
              "      <th>count</th>\n",
              "      <td>37352.00</td>\n",
              "      <td>37352.00</td>\n",
              "      <td>37352.00</td>\n",
              "      <td>37352.00</td>\n",
              "      <td>37352.00</td>\n",
              "    </tr>\n",
              "    <tr>\n",
              "      <th>mean</th>\n",
              "      <td>21.58</td>\n",
              "      <td>1060477.65</td>\n",
              "      <td>27082.72</td>\n",
              "      <td>1665.08</td>\n",
              "      <td>2677.00</td>\n",
              "    </tr>\n",
              "    <tr>\n",
              "      <th>std</th>\n",
              "      <td>6.56</td>\n",
              "      <td>3184932.05</td>\n",
              "      <td>97145.10</td>\n",
              "      <td>16076.17</td>\n",
              "      <td>14868.32</td>\n",
              "    </tr>\n",
              "    <tr>\n",
              "      <th>min</th>\n",
              "      <td>1.00</td>\n",
              "      <td>4024.00</td>\n",
              "      <td>0.00</td>\n",
              "      <td>0.00</td>\n",
              "      <td>0.00</td>\n",
              "    </tr>\n",
              "    <tr>\n",
              "      <th>25%</th>\n",
              "      <td>23.00</td>\n",
              "      <td>123915.50</td>\n",
              "      <td>864.00</td>\n",
              "      <td>108.00</td>\n",
              "      <td>81.00</td>\n",
              "    </tr>\n",
              "    <tr>\n",
              "      <th>50%</th>\n",
              "      <td>24.00</td>\n",
              "      <td>304586.00</td>\n",
              "      <td>3069.00</td>\n",
              "      <td>326.00</td>\n",
              "      <td>329.00</td>\n",
              "    </tr>\n",
              "    <tr>\n",
              "      <th>75%</th>\n",
              "      <td>24.00</td>\n",
              "      <td>799291.25</td>\n",
              "      <td>13774.25</td>\n",
              "      <td>1019.25</td>\n",
              "      <td>1285.00</td>\n",
              "    </tr>\n",
              "    <tr>\n",
              "      <th>max</th>\n",
              "      <td>43.00</td>\n",
              "      <td>125432237.00</td>\n",
              "      <td>2912710.00</td>\n",
              "      <td>1545017.00</td>\n",
              "      <td>827755.00</td>\n",
              "    </tr>\n",
              "  </tbody>\n",
              "</table>\n",
              "</div>"
            ],
            "text/plain": [
              "       category_id        views      likes   dislikes  comment_count\n",
              "count     37352.00     37352.00   37352.00   37352.00       37352.00\n",
              "mean         21.58   1060477.65   27082.72    1665.08        2677.00\n",
              "std           6.56   3184932.05   97145.10   16076.17       14868.32\n",
              "min           1.00      4024.00       0.00       0.00           0.00\n",
              "25%          23.00    123915.50     864.00     108.00          81.00\n",
              "50%          24.00    304586.00    3069.00     326.00         329.00\n",
              "75%          24.00    799291.25   13774.25    1019.25        1285.00\n",
              "max          43.00 125432237.00 2912710.00 1545017.00      827755.00"
            ]
          },
          "metadata": {
            "tags": []
          },
          "execution_count": 10
        }
      ]
    },
    {
      "cell_type": "code",
      "metadata": {
        "id": "XtgmKmDKxrO3",
        "colab_type": "code",
        "colab": {}
      },
      "source": [
        ""
      ],
      "execution_count": 0,
      "outputs": []
    }
  ]
}